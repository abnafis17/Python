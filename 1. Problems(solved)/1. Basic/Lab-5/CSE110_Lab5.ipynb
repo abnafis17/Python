{
  "nbformat": 4,
  "nbformat_minor": 0,
  "metadata": {
    "colab": {
      "name": "CSE110_Lab5.ipynb",
      "provenance": [],
      "collapsed_sections": []
    },
    "kernelspec": {
      "name": "python3",
      "display_name": "Python 3"
    },
    "language_info": {
      "name": "python"
    }
  },
  "cells": [
    {
      "cell_type": "code",
      "execution_count": null,
      "metadata": {
        "id": "GZUNKiJ-fcRt"
      },
      "outputs": [],
      "source": [
        "#Task-1\n",
        "a_tuple = (\"The Institute\", (\"Best Mystery & Thriller\", \"The Silent Patient\", 68821), 75717,\n",
        "[1, 2, 3, 400, 5, 6, 7], (\"Best Fiction\", \"The Testaments\", 98291))\n",
        "print(a_tuple[3][3])"
      ]
    },
    {
      "cell_type": "code",
      "source": [
        "#Task-2\n",
        "a = (-10, 20, 25, 30, 40)\n",
        "a = list(a)\n",
        "b = a[2:len(a)-2]\n",
        "b = tuple(b)\n",
        "print(b)"
      ],
      "metadata": {
        "id": "UFj0lQBdgNA_"
      },
      "execution_count": null,
      "outputs": []
    },
    {
      "cell_type": "code",
      "source": [
        "#Task-3\n",
        "book_info = (\n",
        "(\"Best Mystery & Thriller\",\"The Silent Patient\",68,821),\n",
        "(\"Best Horror\",\"The Institute\",75,717),\n",
        "(\"Best History & Biography\",\"The five\",31,783 ),\n",
        "(\"Best Fiction\",\"The Testaments\",98,291)\n",
        ")\n",
        "print(\"Size of the tuple is:\",len(book_info))\n",
        "for item in book_info:\n",
        "  print(item)"
      ],
      "metadata": {
        "id": "b5LdFfLhhNhp"
      },
      "execution_count": null,
      "outputs": []
    },
    {
      "cell_type": "code",
      "source": [
        "#Task-4\n",
        "book_info = (\n",
        "(\"Best Mystery & Thriller\",\"The Silent Patient\",68821),\n",
        "(\"Best Horror\",\"The Institute\",75717),\n",
        "(\"Best History & Biography\",\"The five\",31783 ),\n",
        "(\"Best Fiction\",\"The Testaments\",98291)\n",
        ")\n",
        "cat1, cat2, cat3, cat4 = book_info\n",
        "cat1_list = list(cat1)\n",
        "cat2_list = list(cat2)\n",
        "cat3_list = list(cat3)\n",
        "cat4_list = list(cat4)\n",
        "print(cat1_list[1],\"won the\",\"'\"+cat1_list[0]+\"'\",\"category with\",cat1_list[2],\"votes\")\n",
        "print(cat2_list[1],\"won the\",\"'\"+cat2_list[0]+\"'\",\"category with\",cat2_list[2],\"votes\")\n",
        "print(cat3_list[1],\"won the\",\"'\"+cat3_list[0]+\"'\",\"category with\",cat3_list[2],\"votes\")\n",
        "print(cat4_list[1],\"won the\",\"'\"+cat4_list[0]+\"'\",\"category with\",cat4_list[2],\"votes\")"
      ],
      "metadata": {
        "id": "qoQKNwI1io43"
      },
      "execution_count": null,
      "outputs": []
    },
    {
      "cell_type": "code",
      "source": [
        "#Task-5\n",
        "given_tuple = (10, 8, 5, 2, 10, 15, 10, 8, 5, 8, 8, 2)\n",
        "num = int(input(\"Enter a number\"))\n",
        "count = 0\n",
        "for item in given_tuple:\n",
        "  if item == num:\n",
        "    count+=1\n",
        "if count>0:\n",
        "  print(num,\"appears\",count,\"times in the tuple\")\n",
        "else:\n",
        "  print(num,\"appears 0 times in the tuple\")"
      ],
      "metadata": {
        "id": "N6SnVibPlqbq"
      },
      "execution_count": null,
      "outputs": []
    },
    {
      "cell_type": "code",
      "source": [
        "#Task-6\n",
        "given_tuple = ('a', 'b', 'c', 'd', 'e', 'f', 'g', 'h')\n",
        "list_tuple = list(given_tuple)\n",
        "list_range = len(list_tuple)-1\n",
        "new_list = []\n",
        "while list_range>=0:\n",
        "  new_list.append(list_tuple[list_range])\n",
        "  list_range-=1\n",
        "new_tuple = tuple(new_list)\n",
        "print(new_tuple)"
      ],
      "metadata": {
        "id": "ZFDZpbY_nTyw"
      },
      "execution_count": null,
      "outputs": []
    },
    {
      "cell_type": "code",
      "source": [
        "#Task-7\n",
        "dict_1 = {'Harry':15, 'Draco':8, 'Nevil':19}\n",
        "dict_2 = {'Ginie':18, 'Luna': 14}\n",
        "dict_1.update(dict_2)\n",
        "print(dict_1)"
      ],
      "metadata": {
        "id": "t_AdM7N6-aZX"
      },
      "execution_count": null,
      "outputs": []
    },
    {
      "cell_type": "code",
      "source": [
        "#Task-8\n",
        "num = int(input(\"Enter a number\"))\n",
        "dict1 = {}\n",
        "for i in range(0,num):\n",
        "  key = input(\"Enter a key of a dictionary\")\n",
        "  value = int(input(\"Enter a value of a dictionary\"))\n",
        "  dict1[key] = value\n",
        "sum = 0\n",
        "for item in dict1:\n",
        "  sum+=dict1.get(item)\n",
        "avg = int(sum/num)\n",
        "print(\"average is\",str(avg)+\".\")"
      ],
      "metadata": {
        "id": "jVEeKRtGEokO"
      },
      "execution_count": null,
      "outputs": []
    },
    {
      "cell_type": "code",
      "source": [
        "#Task-9\n",
        "exam_marks = {'Cierra Vega': 175, 'Alden Cantrell': 200, 'Kierra Gentry': 165, 'Pierre Cox': 190}\n",
        "num = int(input(\"Enter a number\"))\n",
        "new_dict = {}\n",
        "for item in exam_marks:\n",
        "  if(exam_marks[item]>=num):\n",
        "    new_dict[item] = exam_marks[item]\n",
        "print(new_dict)\n"
      ],
      "metadata": {
        "id": "WwSkqX5dMn0x"
      },
      "execution_count": null,
      "outputs": []
    },
    {
      "cell_type": "code",
      "source": [
        "#Task-10\n",
        "given_dict = {'sci fi': 12, 'mystery': 15, 'horror': 8, 'mythology': 10, 'young_adult': 4, 'adventure':14}\n",
        "max = list(given_dict.values())[0]\n",
        "for item in given_dict:\n",
        "  if given_dict[item]>max:\n",
        "    max = given_dict[item]\n",
        "cat = ''\n",
        "for name, age in given_dict.items():\n",
        "    if age == max:\n",
        "        cat = name\n",
        "print(\"The highest selling book genre is\",\"'\"+cat+\"'\",\"and the number of books sold are\",str(max)+\".\")"
      ],
      "metadata": {
        "id": "tvsIQI5jOD81"
      },
      "execution_count": null,
      "outputs": []
    },
    {
      "cell_type": "code",
      "source": [
        "#Task-11\n",
        "given = \"Python programming is fun\"\n",
        "given = given.lower()\n",
        "dict1 = {}\n",
        "for i in given:\n",
        "  if i != \" \" and i not in dict1:\n",
        "    dict1[i] = 0\n",
        "    count = 0\n",
        "    for j in given:\n",
        "      if i==j:\n",
        "        count+=1\n",
        "    dict1[i] = count\n",
        "print(dict1)"
      ],
      "metadata": {
        "colab": {
          "base_uri": "https://localhost:8080/"
        },
        "id": "AXnACVK9Xrj1",
        "outputId": "22cf3670-5132-4a5c-bc85-ec3e67aa202f"
      },
      "execution_count": null,
      "outputs": [
        {
          "output_type": "stream",
          "name": "stdout",
          "text": [
            "python programming is fun\n",
            "{'p': 2, 'y': 1, 't': 1, 'h': 1, 'o': 2, 'n': 3, 'r': 2, 'g': 2, 'a': 1, 'm': 2, 'i': 2, 's': 1, 'f': 1, 'u': 1}\n"
          ]
        }
      ]
    },
    {
      "cell_type": "code",
      "source": [
        "#Task-12\n",
        "dict_1 = {'A': [1, 2, 3], 'b': ['1', '2'], \"c\": [4, 5, 6, 7]}\n",
        "count = 0\n",
        "list1 = []\n",
        "for item in dict_1.values():\n",
        "  list1.append(item)\n",
        "for i in list1:\n",
        "  for j in i:\n",
        "    count+=1\n",
        "print(count)"
      ],
      "metadata": {
        "colab": {
          "base_uri": "https://localhost:8080/"
        },
        "id": "GarNyZogfnai",
        "outputId": "6692c8c9-ff3b-4828-8f56-f601a5437cf6"
      },
      "execution_count": null,
      "outputs": [
        {
          "output_type": "stream",
          "name": "stdout",
          "text": [
            "9\n"
          ]
        }
      ]
    },
    {
      "cell_type": "code",
      "source": [
        "#Task-13\n",
        "list_1 = [(\"a\", 1), (\"b\", 2), (\"a\", 3), (\"b\", 1), (\"a\", 2), (\"c\", 1)]\n",
        "dict1 = {}\n",
        "a = []\n",
        "b = []\n",
        "c = []\n",
        "for item in list_1:\n",
        "  if item[0] == \"a\":\n",
        "    a.append(item[1])\n",
        "  elif item[0] == \"b\":\n",
        "    b.append(item[1])\n",
        "  elif item[0] == \"c\":\n",
        "    c.append(item[1])\n",
        "dict1[\"a\"] = a\n",
        "dict1[\"b\"] = b\n",
        "dict1[\"c\"] = c\n",
        "print(dict1)"
      ],
      "metadata": {
        "colab": {
          "base_uri": "https://localhost:8080/"
        },
        "id": "PtJ9DqgOjyTM",
        "outputId": "164cc12e-4431-41ba-effb-ecc1741368e1"
      },
      "execution_count": null,
      "outputs": [
        {
          "output_type": "stream",
          "name": "stdout",
          "text": [
            "{'a': [1, 3, 2], 'b': [2, 1], 'c': [1]}\n"
          ]
        }
      ]
    }
  ]
}