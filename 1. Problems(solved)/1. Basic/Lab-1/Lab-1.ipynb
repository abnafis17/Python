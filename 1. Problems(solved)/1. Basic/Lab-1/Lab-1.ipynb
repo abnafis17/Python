{
 "cells": [
  {
   "cell_type": "code",
   "execution_count": 3,
   "id": "9aa9cb26",
   "metadata": {},
   "outputs": [
    {
     "name": "stdout",
     "output_type": "stream",
     "text": [
      "Please enter a radius3\n",
      "Area:  28.274333882308138\n",
      "Circumference:  18.84955592153876\n"
     ]
    }
   ],
   "source": [
    "#Task-2\n",
    "import math\n",
    "radius = float(input(\"Please enter a radius\"))\n",
    "area = math.pi*math.pow(radius,2)\n",
    "circumference = 2*math.pi*radius\n",
    "print(\"Area: \", area)\n",
    "print(\"Circumference: \", circumference)"
   ]
  },
  {
   "cell_type": "code",
   "execution_count": 7,
   "id": "ea1171bf",
   "metadata": {},
   "outputs": [
    {
     "name": "stdout",
     "output_type": "stream",
     "text": [
      "Enter the first number-3\n",
      "Enter the second number-3\n",
      "The numbers are equal\n"
     ]
    }
   ],
   "source": [
    "#Task-3\n",
    "num1 = int(input(\"Enter the first number\"))\n",
    "num2 = int(input(\"Enter the second number\"))\n",
    "if(num1>num2):\n",
    "    print(\"First is greater\")\n",
    "elif(num1<num2):\n",
    "    print(\"Second is greater\")\n",
    "else:\n",
    "    print(\"The numbers are equal\")"
   ]
  },
  {
   "cell_type": "code",
   "execution_count": 14,
   "id": "37640ad3",
   "metadata": {},
   "outputs": [
    {
     "name": "stdout",
     "output_type": "stream",
     "text": [
      "Enter the first number-5\n",
      "Enter the second number0\n",
      "5\n"
     ]
    }
   ],
   "source": [
    "#Task-4\n",
    "num1 = int(input(\"Enter the first number\"))\n",
    "num2 = int(input(\"Enter the second number\"))\n",
    "if(num1>num2):\n",
    "    print(num1-num2)\n",
    "else:\n",
    "    print(num2-num1)"
   ]
  },
  {
   "cell_type": "code",
   "execution_count": 16,
   "id": "eb1fe4b0",
   "metadata": {},
   "outputs": [
    {
     "name": "stdout",
     "output_type": "stream",
     "text": [
      "Enter a number:  109\n",
      "The number is odd\n"
     ]
    }
   ],
   "source": [
    "#Task-5\n",
    "num = int(input(\"Enter a number:  \"))\n",
    "if num%2==0:\n",
    "    print(\"The number is even\")\n",
    "else:\n",
    "    print(\"The number is odd\")"
   ]
  },
  {
   "cell_type": "code",
   "execution_count": 19,
   "id": "3c6f3488",
   "metadata": {},
   "outputs": [
    {
     "name": "stdout",
     "output_type": "stream",
     "text": [
      "Please enter a number: 19\n",
      "Not a multiple of 2 OR 5\n"
     ]
    }
   ],
   "source": [
    "#Task-6\n",
    "num = int(input(\"Please enter a number: \"))\n",
    "if(num%2==0 or num%5==0):\n",
    "    print(num)\n",
    "else:\n",
    "    print(\"Not a multiple of 2 OR 5\")"
   ]
  },
  {
   "cell_type": "code",
   "execution_count": 30,
   "id": "42435573",
   "metadata": {},
   "outputs": [
    {
     "name": "stdout",
     "output_type": "stream",
     "text": [
      "Please enter a number: 13\n",
      "Not a multiple we want\n"
     ]
    }
   ],
   "source": [
    "#Task-7\n",
    "num = int(input(\"Please enter a number: \"))\n",
    "if(num%2 == 0 and num%5 ==0):\n",
    "    print(\"Multiple of 2 and 5 both\")\n",
    "elif(num%2 == 0 or num%5 == 0):\n",
    "    print(num)\n",
    "else:\n",
    "    print(\"Not a multiple we want\")"
   ]
  },
  {
   "cell_type": "code",
   "execution_count": 32,
   "id": "c677cff0",
   "metadata": {},
   "outputs": [
    {
     "name": "stdout",
     "output_type": "stream",
     "text": [
      "Please enter a number: 12\n",
      "Not multiple of 2 and 5 both\n"
     ]
    }
   ],
   "source": [
    "#Task-8\n",
    "num = int(input(\"Please enter a number: \"))\n",
    "if(num%2 == 0 and num%5 ==0):\n",
    "    print(num)\n",
    "else:\n",
    "    print(\"Not multiple of 2 and 5 both\")"
   ]
  },
  {
   "cell_type": "code",
   "execution_count": 37,
   "id": "2d79446f",
   "metadata": {},
   "outputs": [
    {
     "name": "stdout",
     "output_type": "stream",
     "text": [
      "Please enter the second: 1000\n",
      "Hours:  0  Minute:  16  Second:  40\n"
     ]
    }
   ],
   "source": [
    "#Task-9\n",
    "second = int(input(\"Please enter the second: \"))\n",
    "hour = second//3600\n",
    "temp = second%3600\n",
    "minute = temp//60\n",
    "second = temp%60\n",
    "print(\"Hours: \",hour,\" Minute: \",minute,\" Second: \",second)"
   ]
  },
  {
   "cell_type": "code",
   "execution_count": 46,
   "id": "cfcc7334",
   "metadata": {},
   "outputs": [
    {
     "name": "stdout",
     "output_type": "stream",
     "text": [
      "Please give weekly word hour: 100\n",
      "26000\n"
     ]
    }
   ],
   "source": [
    "#Task-10\n",
    "hour = int(input(\"Please give weekly word hour: \"))\n",
    "if(hour>=0 and hour<=168):\n",
    "    if(hour<=40):\n",
    "        salary = hour*200\n",
    "        print(salary)\n",
    "    else:\n",
    "        salary = 8000 + ((hour-40)*300)\n",
    "        print(salary)\n",
    "elif(hour<0):\n",
    "    print(\"Hour cannot be negative\")\n",
    "else:\n",
    "    print(\"Impossible to work more than 168 hours weekly\")"
   ]
  },
  {
   "cell_type": "code",
   "execution_count": 59,
   "id": "75219f9b",
   "metadata": {},
   "outputs": [
    {
     "name": "stdout",
     "output_type": "stream",
     "text": [
      "Enter a number: 3\n",
      "1875.0\n"
     ]
    }
   ],
   "source": [
    "#Task-11\n",
    "import math\n",
    "s = int(input(\"Enter a number: \"))\n",
    "if(s<100):\n",
    "    value = 3000 - (125*(math.pow(s,2)))\n",
    "    print(value)\n",
    "else:\n",
    "    value = 12000/(4+(math.pow(s,2))/14900)\n",
    "    print(value)"
   ]
  },
  {
   "cell_type": "code",
   "execution_count": null,
   "id": "b5687588",
   "metadata": {},
   "outputs": [],
   "source": [
    "#Task-15\n"
   ]
  },
  {
   "cell_type": "code",
   "execution_count": null,
   "id": "07a97d13",
   "metadata": {},
   "outputs": [],
   "source": []
  }
 ],
 "metadata": {
  "kernelspec": {
   "display_name": "Python 3 (ipykernel)",
   "language": "python",
   "name": "python3"
  },
  "language_info": {
   "codemirror_mode": {
    "name": "ipython",
    "version": 3
   },
   "file_extension": ".py",
   "mimetype": "text/x-python",
   "name": "python",
   "nbconvert_exporter": "python",
   "pygments_lexer": "ipython3",
   "version": "3.9.7"
  }
 },
 "nbformat": 4,
 "nbformat_minor": 5
}
