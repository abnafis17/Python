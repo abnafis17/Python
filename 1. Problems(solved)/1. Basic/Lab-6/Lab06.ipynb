{
 "cells": [
  {
   "cell_type": "code",
   "execution_count": 5,
   "id": "dfaad404",
   "metadata": {},
   "outputs": [
    {
     "name": "stdout",
     "output_type": "stream",
     "text": [
      "ODD!!\n"
     ]
    }
   ],
   "source": [
    "#Task-1\n",
    "def even_checker(num):\n",
    "    if num%2==0:\n",
    "        print(\"Even!!\")\n",
    "    else:\n",
    "        print(\"ODD!!\")\n",
    "even_checker(5)"
   ]
  },
  {
   "cell_type": "code",
   "execution_count": 6,
   "id": "bf19c8f6",
   "metadata": {},
   "outputs": [
    {
     "name": "stdout",
     "output_type": "stream",
     "text": [
      "8\n",
      "a -> 17\n",
      "10\n",
      "b -> 19\n",
      "2\n",
      "c -> 5\n",
      "-7\n",
      "d -> -14\n",
      "2\n",
      "e -> 5\n"
     ]
    }
   ],
   "source": [
    "dict1 = {'a':59 , 'b':-82 , 'c':5 , 'd':-81 , 'e':53}\n",
    "for i in dict1:\n",
    "    j = 0\n",
    "    k = 22\n",
    "    while j < 5:\n",
    "        if j % 2 == 0:\n",
    "            k = dict1[i] + j - (8 + k % 6) / 3\n",
    "            dict1[i] = dict1[i]+ int(k)\n",
    "        else:\n",
    "            k = dict1[i] + j - (6 - k % 8) * 3\n",
    "            dict1[i] = dict1[i] - int(k)\n",
    "        j += 1\n",
    "    print(int(k))\n",
    "    print(i + \" -> \" + str(dict1[i]))"
   ]
  },
  {
   "cell_type": "code",
   "execution_count": 13,
   "id": "0c7b8c54",
   "metadata": {},
   "outputs": [
    {
     "name": "stdout",
     "output_type": "stream",
     "text": [
      "0 1 1 2 3 5 8 "
     ]
    }
   ],
   "source": [
    "#Task-2:\n",
    "def fibonacci(num):\n",
    "    num1 = 0;\n",
    "    num2 = 1;\n",
    "    print(num1,num2,end=\" \")\n",
    "    for i in range(0,num):\n",
    "        num3 = num1+num2\n",
    "        if num3<=num:\n",
    "            print(num3,end=\" \")\n",
    "        num1 = num2\n",
    "        num2 = num3\n",
    "fibonacci(10)"
   ]
  },
  {
   "cell_type": "code",
   "execution_count": 18,
   "id": "b9fe7707",
   "metadata": {},
   "outputs": [
    {
     "name": "stdout",
     "output_type": "stream",
     "text": [
      "Foo\n"
     ]
    }
   ],
   "source": [
    "#Task-3\n",
    "def foo_moo(num):\n",
    "    if(num%2==0 and num%3==0):\n",
    "        return \"FooMoo\"\n",
    "    elif(num%2==0):\n",
    "        return \"Foo\"\n",
    "    elif(num%3==0):\n",
    "        return \"Moo\"\n",
    "    else:\n",
    "        return \"Boo\"\n",
    "print(foo_moo(4))"
   ]
  },
  {
   "cell_type": "code",
   "execution_count": 20,
   "id": "31c1c0c9",
   "metadata": {},
   "outputs": [
    {
     "name": "stdout",
     "output_type": "stream",
     "text": [
      "Enter the age: 16\n",
      "Enter the salary: 22000\n",
      "Enter the designation of your company: student\n",
      "0\n"
     ]
    }
   ],
   "source": [
    "#Task-5:\n",
    "def calculate_tax(age,salary,job):\n",
    "    if(age<18 or salary<10000 or job.lower()=='president'):\n",
    "        return 0\n",
    "    elif(salary>=10000 and salary<=20000):\n",
    "        tax = (salary*5)/100\n",
    "        return tax\n",
    "    else:\n",
    "        tax = (salary*10)/100\n",
    "        return tax\n",
    "input1 = int(input(\"Enter the age: \"))\n",
    "input2 = int(input(\"Enter the salary: \"))\n",
    "input3 = input(\"Enter the designation of your company: \")\n",
    "print(calculate_tax(input1,input2,input3))"
   ]
  },
  {
   "cell_type": "code",
   "execution_count": null,
   "id": "2d4925c9",
   "metadata": {},
   "outputs": [],
   "source": [
    "#Task-8\n",
    "def show_palindromic_triangle(num):\n",
    "    for i range(num):\n",
    "        for i in range(i,num):\n",
    "            print(\" \", end=\" \")\n",
    "        for j in range(num,num+1):\n",
    "            print(i)\n",
    "        for "
   ]
  },
  {
   "cell_type": "code",
   "execution_count": null,
   "id": "2ce00dc8",
   "metadata": {},
   "outputs": [],
   "source": []
  },
  {
   "cell_type": "code",
   "execution_count": 4,
   "id": "6784bc9b",
   "metadata": {},
   "outputs": [
    {
     "name": "stdout",
     "output_type": "stream",
     "text": [
      "{1: 1, 2: 4, 3: 9}\n"
     ]
    }
   ],
   "source": [
    "#Task-10\n",
    "def make_square(tuple1):\n",
    "    x,y = tuple1\n",
    "    dict1 = {}\n",
    "    for i in range(x,y+1):\n",
    "        a = i\n",
    "        b = i**2\n",
    "        dict1[a]=b\n",
    "    print(dict1)\n",
    "make_square((1,3))"
   ]
  },
  {
   "cell_type": "code",
   "execution_count": null,
   "id": "ad45d616",
   "metadata": {},
   "outputs": [],
   "source": []
  },
  {
   "cell_type": "code",
   "execution_count": null,
   "id": "29405ae2",
   "metadata": {},
   "outputs": [],
   "source": []
  },
  {
   "cell_type": "code",
   "execution_count": null,
   "id": "8209d0ba",
   "metadata": {},
   "outputs": [],
   "source": []
  },
  {
   "cell_type": "code",
   "execution_count": null,
   "id": "c3561443",
   "metadata": {},
   "outputs": [],
   "source": []
  },
  {
   "cell_type": "code",
   "execution_count": null,
   "id": "c95415f5",
   "metadata": {},
   "outputs": [],
   "source": []
  },
  {
   "cell_type": "code",
   "execution_count": null,
   "id": "28a4375e",
   "metadata": {},
   "outputs": [],
   "source": [
    "#Task-6:\n",
    "def function_name(num):\n",
    "    year = num//365\n",
    "    temp = num%365"
   ]
  }
 ],
 "metadata": {
  "kernelspec": {
   "display_name": "Python 3 (ipykernel)",
   "language": "python",
   "name": "python3"
  },
  "language_info": {
   "codemirror_mode": {
    "name": "ipython",
    "version": 3
   },
   "file_extension": ".py",
   "mimetype": "text/x-python",
   "name": "python",
   "nbconvert_exporter": "python",
   "pygments_lexer": "ipython3",
   "version": "3.9.7"
  }
 },
 "nbformat": 4,
 "nbformat_minor": 5
}
