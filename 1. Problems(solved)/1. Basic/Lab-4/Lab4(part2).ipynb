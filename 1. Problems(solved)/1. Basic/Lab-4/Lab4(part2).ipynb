{
  "cells": [
    {
      "cell_type": "code",
      "execution_count": null,
      "id": "696fd3a7",
      "metadata": {
        "id": "696fd3a7",
        "outputId": "21d59df2-957d-493a-c5b5-0a2e5700eee4"
      },
      "outputs": [
        {
          "name": "stdout",
          "output_type": "stream",
          "text": [
            "Please enter numbers3\n",
            "['3']\n",
            "Please enter numbers5\n",
            "['3', '5']\n",
            "Please enter numbers6\n",
            "['3', '5', '6']\n",
            "Please enter numbers7\n",
            "['3', '5', '6', '7']\n",
            "Please enter numbers8\n",
            "['3', '5', '6', '7', '8']\n"
          ]
        }
      ],
      "source": [
        "#Task-1\n",
        "list1 = []\n",
        "for i in range(5):\n",
        "    a = input('Please enter numbers')\n",
        "    list1.append(a)\n",
        "    print(list1)"
      ]
    },
    {
      "cell_type": "code",
      "execution_count": null,
      "id": "507835a2",
      "metadata": {
        "id": "507835a2",
        "outputId": "0b8c5100-1bb9-41fe-fa62-12d3c59dd58d"
      },
      "outputs": [
        {
          "name": "stdout",
          "output_type": "stream",
          "text": [
            "Please enter the valueshey, ,what's, up,,?\n",
            "Original list: ['hey', '', \"what's\", 'up', '', '?']\n",
            "Modified list: ['hey', \"what's\", 'up', '?']\n"
          ]
        }
      ],
      "source": [
        "#Task-5\n",
        "list1 = input(\"Please enter the values\")\n",
        "list1 = list1.split(\",\")\n",
        "list2 = []\n",
        "for i in range(len(list1)):\n",
        "    list1[i] = list1[i].strip()\n",
        "print(\"Original list:\", list1)\n",
        "for i in range(len(list1)):\n",
        "    if list1[i]!=\"\":\n",
        "        list2.append(list1[i])\n",
        "print(\"Modified list:\",list2)"
      ]
    },
    {
      "cell_type": "code",
      "execution_count": null,
      "id": "f2bcc5ce",
      "metadata": {
        "id": "f2bcc5ce",
        "outputId": "bac546ff-fca8-4359-b41d-0259d63cb8fd"
      },
      "outputs": [
        {
          "name": "stdout",
          "output_type": "stream",
          "text": [
            "Enter a list12,14,20\n",
            "['12', '14', '20']\n",
            "Largest number in the list is 20 which was found at index 2.\n"
          ]
        }
      ],
      "source": [
        "#Task-6:\n",
        "list1 = input(\"Enter a list\")\n",
        "list1 = list1.split(\",\")\n",
        "print(list1)\n",
        "max = int(list1[0])\n",
        "count = '0'\n",
        "for i in range(1,len(list1)):\n",
        "    if int(list1[i])>max:\n",
        "        max = int(list1[i])\n",
        "        count = str(i)\n",
        "print(\"Largest number in the list is\",max,\"which was found at index\",count+\".\")"
      ]
    },
    {
      "cell_type": "code",
      "execution_count": null,
      "id": "182b1176",
      "metadata": {
        "id": "182b1176",
        "outputId": "4a4380dc-fdd1-4a75-ecd8-fc65bb44df4b"
      },
      "outputs": [
        {
          "name": "stdout",
          "output_type": "stream",
          "text": [
            "Enter a list1,2,3,4,5,6\n",
            "Enter another list7,8,9,10\n",
            "['1', '2', '3', '4', '5', '7', '8', '9', '10']\n"
          ]
        }
      ],
      "source": [
        "#Task-7\n",
        "list1 = input(\"Enter a list\")\n",
        "list1 = list1.split(\",\")\n",
        "list2 = input(\"Enter another list\")\n",
        "list2 = list2.split(\",\")\n",
        "list3 = []\n",
        "for i in range(len(list1)-1):\n",
        "    list3.append(list1[i])\n",
        "for i in range(len(list2)):\n",
        "    list3.append(list2[i])\n",
        "print(list3)"
      ]
    },
    {
      "cell_type": "code",
      "execution_count": null,
      "id": "8ada01be",
      "metadata": {
        "id": "8ada01be",
        "outputId": "3943e9d3-213f-4abd-ce41-e6aaa35a7e37"
      },
      "outputs": [
        {
          "name": "stdout",
          "output_type": "stream",
          "text": [
            "Enter a list1,2,3,4,5,6\n",
            "Enter another list8,9,-10,-11,-12,-13\n",
            "['2', '4', '6', '8', '-10', '-12']\n"
          ]
        }
      ],
      "source": [
        "#Task-8\n",
        "list1 = input(\"Enter a list\")\n",
        "list1 = list1.split(\",\")\n",
        "list2 = input(\"Enter another list\")\n",
        "list2 = list2.split(\",\")\n",
        "list3 = []\n",
        "for i in range(len(list1)):\n",
        "    if int(list1[i])%2==0:\n",
        "        list3.append(list1[i])\n",
        "for i in range(len(list2)):\n",
        "    if int(list2[i])%2==0:\n",
        "        list3.append(list2[i])\n",
        "print(list3)"
      ]
    },
    {
      "cell_type": "code",
      "execution_count": null,
      "id": "0a0e9018",
      "metadata": {
        "id": "0a0e9018",
        "outputId": "7a6f25d4-21f8-4c22-f8db-9c76fa5f57a8"
      },
      "outputs": [
        {
          "name": "stdout",
          "output_type": "stream",
          "text": [
            "Enter values: 7 12 4 55 96 2 11 61 33 42\n",
            "Original list: [7, 12, 4, 55, 96, 2, 11, 61, 33]\n",
            "Modified list: [7, 55, 11, 61, 33]\n"
          ]
        }
      ],
      "source": [
        "#Task9\n",
        "list1 = input(\"Enter values: \")\n",
        "list2 = []\n",
        "temp = \"\"\n",
        "for i in list1:\n",
        "    if i!= \" \":\n",
        "        temp+=i\n",
        "    else:\n",
        "        list2.append(temp)\n",
        "        temp = \"\"\n",
        "for i in range(len(list2)):\n",
        "    list2[i] = int(list2[i])\n",
        "print(\"Original list:\", list2)\n",
        "list3 = []\n",
        "for i in list2:\n",
        "    if i%2!=0:\n",
        "        list3.append(i)\n",
        "print(\"Modified list:\", list3)"
      ]
    },
    {
      "cell_type": "code",
      "execution_count": null,
      "id": "b4917dc6",
      "metadata": {
        "id": "b4917dc6",
        "outputId": "6b4acb82-64d7-4b9e-b3ae-eea1c97d96f2"
      },
      "outputs": [
        {
          "name": "stdout",
          "output_type": "stream",
          "text": [
            "7, 7, 7, 1, 0, 3, 3, 55, 9\n",
            "Input list: ['7', '7', '7', '1', '0', '3', '3', '55', '9']\n",
            "Modified list: ['7', '1', '0', '3', '55', '9']\n"
          ]
        }
      ],
      "source": [
        "#Task-10\n",
        "list1 = input()\n",
        "list1 = list1.split(',')\n",
        "for i in range(len(list1)):\n",
        "    list1[i] = str(list1[i].strip())\n",
        "list2 = []\n",
        "for i in list1:\n",
        "    if i not in list2:\n",
        "        list2.append(i)\n",
        "print(\"Input list:\",list1)\n",
        "print(\"Modified list:\", list2)"
      ]
    },
    {
      "cell_type": "code",
      "execution_count": null,
      "id": "a87d992e",
      "metadata": {
        "id": "a87d992e",
        "outputId": "37737fd8-59c3-420d-f2d9-06818e178a0e"
      },
      "outputs": [
        {
          "name": "stdout",
          "output_type": "stream",
          "text": [
            "Enter a list2,3,4,5\n",
            "Enter another list1,7,8,9\n",
            "False\n"
          ]
        }
      ],
      "source": [
        "#Task-11\n",
        "list1 = input(\"Enter a list\")\n",
        "list1 = list1.split(\",\")\n",
        "list2 = input(\"Enter another list\")\n",
        "list2 = list2.split(\",\")\n",
        "check = 0\n",
        "for i in list1:\n",
        "    if i in list2:\n",
        "        check+=1\n",
        "if check>=1:\n",
        "    print(\"True\")\n",
        "else:\n",
        "    print(\"False\")"
      ]
    },
    {
      "cell_type": "code",
      "execution_count": null,
      "id": "a87e3d36",
      "metadata": {
        "id": "a87e3d36"
      },
      "outputs": [],
      "source": [
        ""
      ]
    },
    {
      "cell_type": "code",
      "execution_count": null,
      "id": "b3357ced",
      "metadata": {
        "id": "b3357ced"
      },
      "outputs": [],
      "source": [
        ""
      ]
    }
  ],
  "metadata": {
    "kernelspec": {
      "display_name": "Python 3 (ipykernel)",
      "language": "python",
      "name": "python3"
    },
    "language_info": {
      "codemirror_mode": {
        "name": "ipython",
        "version": 3
      },
      "file_extension": ".py",
      "mimetype": "text/x-python",
      "name": "python",
      "nbconvert_exporter": "python",
      "pygments_lexer": "ipython3",
      "version": "3.9.7"
    },
    "colab": {
      "name": "Lab4(part2).ipynb",
      "provenance": []
    }
  },
  "nbformat": 4,
  "nbformat_minor": 5
}