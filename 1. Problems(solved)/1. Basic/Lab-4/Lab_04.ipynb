{
  "cells": [
    {
      "cell_type": "code",
      "execution_count": null,
      "id": "e47fa621",
      "metadata": {
        "id": "e47fa621",
        "outputId": "dd4d57c3-4d95-4ab9-9fe7-b7821bd9c30c"
      },
      "outputs": [
        {
          "name": "stdout",
          "output_type": "stream",
          "text": [
            "Enter the numbers11,13,14,15,15,15\n",
            "['14', '15']\n"
          ]
        }
      ],
      "source": [
        "#Task-2\n",
        "list1 = input(\"Enter the numbers\")\n",
        "list1 = list1.split(\",\")\n",
        "list2 = []\n",
        "if(len(list1)>3):\n",
        "    if(len(list1)>4):\n",
        "        print(list1[2:len(list1)-2])\n",
        "    elif(len(list1)==4):\n",
        "        print(list2)\n",
        "else:\n",
        "    print(\"Not possible\")"
      ]
    },
    {
      "cell_type": "code",
      "execution_count": null,
      "id": "30c9c35f",
      "metadata": {
        "id": "30c9c35f",
        "outputId": "185e4ffe-daaf-43a0-906d-e8fc8ee7ad27",
        "colab": {
          "base_uri": "https://localhost:8080/"
        }
      },
      "outputs": [
        {
          "output_type": "stream",
          "name": "stdout",
          "text": [
            "Enter the numbers12,13,14,15,16,17\n",
            "['14', '15']\n"
          ]
        }
      ],
      "source": [
        "#Task-2\n",
        "list1 = input(\"Enter the numbers\")\n",
        "list1 = list1.split(\",\")\n",
        "list2 = []\n",
        "if(len(list1)>3):\n",
        "  print(list1[2:len(list1)-2])\n",
        "else:\n",
        "  print(\"Not possible\")"
      ]
    },
    {
      "cell_type": "code",
      "execution_count": null,
      "id": "868c7ac1",
      "metadata": {
        "id": "868c7ac1",
        "outputId": "3a23ba72-6e77-4804-c688-b7b6f02f7389"
      },
      "outputs": [
        {
          "name": "stdout",
          "output_type": "stream",
          "text": [
            "Enter the number: 100\n",
            "Enter the number: 200\n",
            "Enter the number: 300\n",
            "Enter the number: 400\n",
            "Enter the number: 500\n",
            "Input data: ['100', '200', '300', '400', '500']\n",
            "Printing values from the list in reverse order:\n",
            "500\n",
            "400\n",
            "300\n",
            "200\n",
            "100\n"
          ]
        }
      ],
      "source": [
        "#task-3\n",
        "list1 = []\n",
        "for i in range(5):\n",
        "    num = input(\"Enter the number: \")\n",
        "    list1.append(num)\n",
        "print(\"Input data:\",list1)\n",
        "list1 = list1[len(list1)-1::-1]\n",
        "print(\"Printing values from the list in reverse order:\")\n",
        "for i in list1:\n",
        "    print(i)"
      ]
    },
    {
      "cell_type": "code",
      "execution_count": null,
      "id": "f0e65143",
      "metadata": {
        "id": "f0e65143",
        "outputId": "a5faadcc-f7fc-42d2-9d0d-b13f6a7e53e7",
        "colab": {
          "base_uri": "https://localhost:8080/"
        }
      },
      "outputs": [
        {
          "output_type": "stream",
          "name": "stdout",
          "text": [
            "Enter a number1,3,5,9\n",
            "Main List: [1, 3, 5, 9]\n",
            "Square List: [1, 9, 25, 81]\n"
          ]
        }
      ],
      "source": [
        "# task-4\n",
        "# converting multiple value in single input to a list\n",
        "list1 = input(\"Enter a number\")\n",
        "list1 = list1[0:len(list1)]\n",
        "list1 = list1.split(\",\")\n",
        "for i in range(len(list1)):\n",
        "    list1[i]=int(list1[i].strip())\n",
        "print(\"Main List:\",list1)\n",
        "list2 = []\n",
        "# making the list square\n",
        "for i in range(len(list1)):\n",
        "    a = int(list1[i])**2\n",
        "    list2.append(a)\n",
        "print(\"Square List:\",list2)"
      ]
    },
    {
      "cell_type": "code",
      "execution_count": null,
      "id": "a898a514",
      "metadata": {
        "id": "a898a514",
        "outputId": "557a380a-3358-43c4-9a3a-b561e9aa56c6"
      },
      "outputs": [
        {
          "name": "stdout",
          "output_type": "stream",
          "text": [
            "1,2,3,4,5\n",
            "1,2,3,4,5\n"
          ]
        }
      ],
      "source": [
        "a = input()\n",
        "print(a)"
      ]
    },
    {
      "cell_type": "code",
      "execution_count": null,
      "id": "31d55c89",
      "metadata": {
        "id": "31d55c89",
        "outputId": "f514ebf2-21f6-48fb-d3e6-180db43f8719"
      },
      "outputs": [
        {
          "name": "stdout",
          "output_type": "stream",
          "text": [
            "True\n"
          ]
        }
      ],
      "source": [
        "print(3==3.0)"
      ]
    },
    {
      "cell_type": "code",
      "execution_count": null,
      "id": "105ca850",
      "metadata": {
        "id": "105ca850",
        "outputId": "02ee0b34-2920-4214-e9c2-9ab9d673d766"
      },
      "outputs": [
        {
          "name": "stdout",
          "output_type": "stream",
          "text": [
            "-1 -1\n"
          ]
        }
      ],
      "source": [
        "print(-5//10,5//-10)"
      ]
    },
    {
      "cell_type": "code",
      "execution_count": null,
      "id": "30da0408",
      "metadata": {
        "id": "30da0408"
      },
      "outputs": [],
      "source": [
        ""
      ]
    }
  ],
  "metadata": {
    "kernelspec": {
      "display_name": "Python 3 (ipykernel)",
      "language": "python",
      "name": "python3"
    },
    "language_info": {
      "codemirror_mode": {
        "name": "ipython",
        "version": 3
      },
      "file_extension": ".py",
      "mimetype": "text/x-python",
      "name": "python",
      "nbconvert_exporter": "python",
      "pygments_lexer": "ipython3",
      "version": "3.9.7"
    },
    "colab": {
      "name": "Lab-04.ipynb",
      "provenance": []
    }
  },
  "nbformat": 4,
  "nbformat_minor": 5
}