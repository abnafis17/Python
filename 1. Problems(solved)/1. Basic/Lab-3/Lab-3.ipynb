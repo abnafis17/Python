{
 "cells": [
  {
   "cell_type": "code",
   "execution_count": 1,
   "id": "aabb2bcb",
   "metadata": {},
   "outputs": [
    {
     "name": "stdout",
     "output_type": "stream",
     "text": [
      "Please enter anythingCSE110\n",
      "011ESC"
     ]
    }
   ],
   "source": [
    "#Task-1\n",
    "var = input(\"Please enter anything\")\n",
    "for i in range(len(var)-1,-1,-1):\n",
    "    print(var[i],end=\"\")"
   ]
  },
  {
   "cell_type": "code",
   "execution_count": 2,
   "id": "ab5b9ebc",
   "metadata": {},
   "outputs": [
    {
     "name": "stdout",
     "output_type": "stream",
     "text": [
      "Please enter anything72418\n",
      "Enter a number4\n",
      "81427\n"
     ]
    }
   ],
   "source": [
    "#Task-2\n",
    "var = input(\"Please enter anything\")\n",
    "num = int(input(\"Enter a number\"))\n",
    "var1 = var[num::-1]\n",
    "var2 = var[num+1:len(var)]\n",
    "print(var1+var2)"
   ]
  },
  {
   "cell_type": "code",
   "execution_count": 5,
   "id": "fe1f6888",
   "metadata": {},
   "outputs": [
    {
     "name": "stdout",
     "output_type": "stream",
     "text": [
      "Enter a binary number1122111\n",
      "Not a binary number\n"
     ]
    }
   ],
   "source": [
    "#Task-3\n",
    "var = input(\"Enter a binary number\")\n",
    "count = 0\n",
    "for i in range(len(var)):\n",
    "    if(var[i]=='0' or var[i]=='1'):\n",
    "        count+=0\n",
    "    else:\n",
    "        count+=1\n",
    "if(count==0):\n",
    "    print(\"Binary Number\")\n",
    "else:\n",
    "    print(\"Not a binary number\")"
   ]
  },
  {
   "cell_type": "code",
   "execution_count": 6,
   "id": "b7bc2b6f",
   "metadata": {},
   "outputs": [
    {
     "name": "stdout",
     "output_type": "stream",
     "text": [
      "Enter a word: strong\n",
      "stronger\n"
     ]
    }
   ],
   "source": [
    "#Task-4\n",
    "var = input(\"Enter a word: \")\n",
    "var1 = var[len(var)-2:len(var)]\n",
    "var4 = var[len(var)-3:len(var)]\n",
    "\n",
    "if(var1=='er'):\n",
    "    var3 = var[0:len(var)-2]\n",
    "    print(var3+'est')\n",
    "elif(var4=='est'):\n",
    "    print(var)\n",
    "elif(len(var)<4):\n",
    "    print(var)\n",
    "elif(len(var)>3):\n",
    "    print(var+'er')"
   ]
  },
  {
   "cell_type": "code",
   "execution_count": 54,
   "id": "6afd396a",
   "metadata": {},
   "outputs": [
    {
     "name": "stdout",
     "output_type": "stream",
     "text": [
      "Enter a wordBANGLA\n",
      "B\n",
      "BA\n",
      "BAN\n",
      "BANG\n",
      "BANGL\n",
      "BANGLA\n"
     ]
    }
   ],
   "source": [
    "#Task-5\n",
    "var = input(\"Enter a word\")\n",
    "for i in range(len(var)):\n",
    "    for j in range(i+1):\n",
    "        print(var[j], end=\"\")\n",
    "    print()"
   ]
  },
  {
   "cell_type": "code",
   "execution_count": 11,
   "id": "c5fe1daa",
   "metadata": {},
   "outputs": [
    {
     "name": "stdout",
     "output_type": "stream",
     "text": [
      "Enter a wordhunger\n",
      "h 104\n",
      "u 117\n",
      "n 110\n",
      "g 103\n",
      "e 101\n",
      "r 114\n"
     ]
    }
   ],
   "source": [
    "#Task-6\n",
    "a = input(\"Enter a word\")\n",
    "for i in a:\n",
    "    print(i,ord(i))"
   ]
  },
  {
   "cell_type": "code",
   "execution_count": null,
   "id": "7e125df7",
   "metadata": {},
   "outputs": [],
   "source": [
    "# Task-7:\n",
    "letter = input(\"Enter a some letters\")\n",
    "for i in range(len(letter)):\n",
    "    code = ord(letter[i])\n",
    "    if code>=97 and code<=122:\n",
    "        print(chr(code+1), end=\"\")"
   ]
  },
  {
   "cell_type": "code",
   "execution_count": null,
   "id": "e7f6b2d1",
   "metadata": {},
   "outputs": [],
   "source": [
    "# Task-8:\n",
    "word = input(\"Please enter a word\")\n",
    "for i in range(len(word)):\n",
    "    if i%2!=0:\n",
    "        code = ord(word[i])\n",
    "        if code>=65 and code<=90:\n",
    "            print(chr(code), end=\"\")\n",
    "        else:\n",
    "            print(chr(code-32), end=\"\")"
   ]
  },
  {
   "cell_type": "code",
   "execution_count": 4,
   "id": "8218d459",
   "metadata": {},
   "outputs": [
    {
     "name": "stdout",
     "output_type": "stream",
     "text": [
      "Enter some lettersAAABBBBCDDBBECE\n",
      "ABCDBECE"
     ]
    }
   ],
   "source": [
    "#Task-9\n",
    "letters = input(\"Enter some letters\")\n",
    "print(letters[0],end=\"\")\n",
    "for i in range(len(letters)-1):\n",
    "    letter1 = letters[i]\n",
    "    letter2 = letters[i+1]\n",
    "    if letter1!=letter2:\n",
    "        print(letter2, end=\"\")"
   ]
  },
  {
   "cell_type": "code",
   "execution_count": 13,
   "id": "dc570b85",
   "metadata": {},
   "outputs": [
    {
     "name": "stdout",
     "output_type": "stream",
     "text": [
      "Enter a numberijkl,ABCDENDFGH\n",
      "iAjBkClDENDFGH"
     ]
    }
   ],
   "source": [
    "#Task-10\n",
    "letters = input(\"Enter a number\")\n",
    "sep = 0\n",
    "for i in range(len(letters)):\n",
    "    if letters[i]==',':\n",
    "        sep = i\n",
    "part1 = letters[0:sep]\n",
    "part1 = part1.strip()\n",
    "part2 = letters[sep+1:len(letters)]\n",
    "part2 = part2.strip()\n",
    "count = 0\n",
    "if(len(part1)>len(part2)):\n",
    "    for i in range(len(part2)):\n",
    "        print(part1[i]+part2[i],end=\"\")\n",
    "        count+=1\n",
    "    print(part1[count:len(part1)],end=\"\")\n",
    "\n",
    "elif(len(part2)>len(part1)):\n",
    "    for i in range(len(part1)):\n",
    "        print(part1[i]+part2[i],end=\"\")\n",
    "        count+=1\n",
    "    print(part2[count:len(part2)],end=\"\")\n",
    "else:\n",
    "    for i in range(len(part1)):\n",
    "        print(part1[i]+part2[i],end=\"\")       "
   ]
  },
  {
   "cell_type": "code",
   "execution_count": 7,
   "id": "d1621da2",
   "metadata": {},
   "outputs": [
    {
     "name": "stdout",
     "output_type": "stream",
     "text": [
      ",\n",
      "True\n"
     ]
    }
   ],
   "source": [
    "a = 'ab,cd'\n",
    "b = ','\n",
    "c = a[2]\n",
    "print(c)\n",
    "print(b==c)"
   ]
  },
  {
   "cell_type": "code",
   "execution_count": 3,
   "id": "92106163",
   "metadata": {},
   "outputs": [
    {
     "name": "stdout",
     "output_type": "stream",
     "text": [
      "abc\n"
     ]
    }
   ],
   "source": [
    "a = 'abc,de'\n",
    "b = a[0:3]\n",
    "print(b)"
   ]
  },
  {
   "cell_type": "code",
   "execution_count": 11,
   "id": "4db299c7",
   "metadata": {},
   "outputs": [
    {
     "name": "stdout",
     "output_type": "stream",
     "text": [
      "9\n",
      "ab cd e\n",
      "7\n"
     ]
    }
   ],
   "source": [
    "string = ' ab cd e '\n",
    "print(len(string))\n",
    "b = string.strip()\n",
    "print(b)\n",
    "print(len(b))"
   ]
  },
  {
   "cell_type": "code",
   "execution_count": null,
   "id": "c62b3075",
   "metadata": {},
   "outputs": [],
   "source": []
  },
  {
   "cell_type": "code",
   "execution_count": null,
   "id": "f2c68613",
   "metadata": {},
   "outputs": [],
   "source": []
  }
 ],
 "metadata": {
  "kernelspec": {
   "display_name": "Python 3 (ipykernel)",
   "language": "python",
   "name": "python3"
  },
  "language_info": {
   "codemirror_mode": {
    "name": "ipython",
    "version": 3
   },
   "file_extension": ".py",
   "mimetype": "text/x-python",
   "name": "python",
   "nbconvert_exporter": "python",
   "pygments_lexer": "ipython3",
   "version": "3.9.7"
  }
 },
 "nbformat": 4,
 "nbformat_minor": 5
}
