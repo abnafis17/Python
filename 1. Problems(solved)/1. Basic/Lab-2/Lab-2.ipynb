{
 "cells": [
  {
   "cell_type": "code",
   "execution_count": 28,
   "id": "50d93338",
   "metadata": {},
   "outputs": [
    {
     "name": "stdout",
     "output_type": "stream",
     "text": [
      "24,18,12,6,0,-6 "
     ]
    }
   ],
   "source": [
    "#Task-1(a)\n",
    "for i in range(24,-7,-6):\n",
    "    if(i==-6):\n",
    "        print(i, end=\" \")\n",
    "    else:\n",
    "        print(i, end=\",\")"
   ]
  },
  {
   "cell_type": "code",
   "execution_count": 29,
   "id": "a2ecc916",
   "metadata": {},
   "outputs": [
    {
     "name": "stdout",
     "output_type": "stream",
     "text": [
      "-10,-5,0,5,10,15,20 "
     ]
    }
   ],
   "source": [
    "#Task-1(b)\n",
    "i = -10\n",
    "while(i<=20):\n",
    "    if i==20:\n",
    "        print(i, end=\" \")\n",
    "    else:\n",
    "        print(i, end=\",\")\n",
    "    i+=5"
   ]
  },
  {
   "cell_type": "code",
   "execution_count": 30,
   "id": "2ca24c45",
   "metadata": {},
   "outputs": [
    {
     "name": "stdout",
     "output_type": "stream",
     "text": [
      "18,27,36,45,54,63 "
     ]
    }
   ],
   "source": [
    "# Task-1(c)\n",
    "start = 18\n",
    "while (start<=63):\n",
    "    if (start == 63):\n",
    "        print(start, end=\" \")\n",
    "    else:\n",
    "        print(start, end=\",\")\n",
    "    start+=9"
   ]
  },
  {
   "cell_type": "code",
   "execution_count": 31,
   "id": "c7c64bce",
   "metadata": {},
   "outputs": [
    {
     "name": "stdout",
     "output_type": "stream",
     "text": [
      "18,-27,36,-45,54,-63 "
     ]
    }
   ],
   "source": [
    "#Task-1(d)\n",
    "start = 18\n",
    "while (start<=63):\n",
    "    if (start%2==0):\n",
    "        print(start, end=\",\")\n",
    "    else:\n",
    "        if start == 63:\n",
    "            print(start*(-1), end=\" \")\n",
    "        else:\n",
    "            print(start*(-1), end=\",\")\n",
    "    start+=9"
   ]
  },
  {
   "cell_type": "code",
   "execution_count": 34,
   "id": "2cc1636a",
   "metadata": {},
   "outputs": [
    {
     "name": "stdout",
     "output_type": "stream",
     "text": [
      "Enter the name of car: Toyota\n",
      "Enter the number: 5\n",
      "Toyota\n",
      "Toyota\n",
      "Toyota\n",
      "Toyota\n",
      "Toyota\n"
     ]
    }
   ],
   "source": [
    "#Task-2\n",
    "car = input(\"Enter the name of car: \")\n",
    "num = int(input(\"Enter the number: \"))\n",
    "\n",
    "for i in range(num):\n",
    "    print(car)"
   ]
  },
  {
   "cell_type": "code",
   "execution_count": 35,
   "id": "33ad1ed3",
   "metadata": {},
   "outputs": [
    {
     "name": "stdout",
     "output_type": "stream",
     "text": [
      "2835\n"
     ]
    }
   ],
   "source": [
    "# Task-3\n",
    "sum = 0\n",
    "for i in range(601):\n",
    "    if(i%7==0 and i%9==0):\n",
    "        sum = sum+i\n",
    "print(sum)"
   ]
  },
  {
   "cell_type": "code",
   "execution_count": 36,
   "id": "78542cdf",
   "metadata": {},
   "outputs": [
    {
     "name": "stdout",
     "output_type": "stream",
     "text": [
      "39814\n"
     ]
    }
   ],
   "source": [
    "#Task-4\n",
    "sum = 0\n",
    "for i in range(601):\n",
    "    if(i%7==0 or i%9==0):\n",
    "        if(i%7==0 and i%9==0):\n",
    "            continue\n",
    "        else:\n",
    "            sum+=i\n",
    "print(sum)"
   ]
  },
  {
   "cell_type": "code",
   "execution_count": 38,
   "id": "cf9bf019",
   "metadata": {},
   "outputs": [
    {
     "name": "stdout",
     "output_type": "stream",
     "text": [
      "11 13 15 17 19 21 23 25 27 29 31 33 35 37 39 41 43 45 47 49 "
     ]
    }
   ],
   "source": [
    "#Task-5\n",
    "for i in range(11,51,2):\n",
    "    print(i, end=\" \")"
   ]
  },
  {
   "cell_type": "code",
   "execution_count": null,
   "id": "b3086e80",
   "metadata": {},
   "outputs": [],
   "source": [
    "#Task-6\n",
    "num = int(input(\"Enter a number\"))\n",
    "sum = 0\n",
    "for i in range(1,num+1):\n",
    "    if(i%2==0):\n",
    "        sum = sum-(i**2)\n",
    "    else:\n",
    "        sum = sum+(i**2)\n",
    "print(sum)"
   ]
  },
  {
   "cell_type": "code",
   "execution_count": 7,
   "id": "6de6f6f9",
   "metadata": {},
   "outputs": [
    {
     "name": "stdout",
     "output_type": "stream",
     "text": [
      "1\n",
      "2\n",
      "3\n",
      "4\n",
      "5\n",
      "6\n",
      "7\n",
      "8\n",
      "9\n",
      "10\n",
      "The total of the odd numbers is 25 and their average is 5.0\n"
     ]
    }
   ],
   "source": [
    "#Task-7:\n",
    "sum = 0\n",
    "count = 0\n",
    "for i in range(10):\n",
    "    num = int(input())\n",
    "    if num%2 != 0:\n",
    "        sum = num+sum\n",
    "        count+=1\n",
    "avg = float(sum/count)\n",
    "print(\"The total of the odd numbers is\",sum,\"and their average is\",avg)"
   ]
  },
  {
   "cell_type": "code",
   "execution_count": 10,
   "id": "b95320d2",
   "metadata": {},
   "outputs": [
    {
     "name": "stdout",
     "output_type": "stream",
     "text": [
      "Enter a number: 75\n",
      "385\n"
     ]
    }
   ],
   "source": [
    "#Task-8\n",
    "sum = 0\n",
    "num = int(input(\"Enter a number: \"))\n",
    "for i in range(7,num+1,7):\n",
    "    sum+=i\n",
    "print(sum)"
   ]
  },
  {
   "cell_type": "code",
   "execution_count": 1,
   "id": "56d1c633",
   "metadata": {},
   "outputs": [
    {
     "name": "stdout",
     "output_type": "stream",
     "text": [
      "1\n",
      "1\n",
      "2\n",
      "3\n",
      "3\n",
      "6\n",
      "4\n",
      "10\n",
      "-10\n",
      "0\n"
     ]
    }
   ],
   "source": [
    "#Task-9:\n",
    "total = 0\n",
    "for i in range(5):\n",
    "    num = int(input())\n",
    "    total = total+num\n",
    "    print(total)"
   ]
  },
  {
   "cell_type": "code",
   "execution_count": 3,
   "id": "6facc6d5",
   "metadata": {},
   "outputs": [
    {
     "name": "stdout",
     "output_type": "stream",
     "text": [
      "Enter a number: 32768\n",
      "8,6,7,2,3 "
     ]
    }
   ],
   "source": [
    "#Task-10\n",
    "num = int(input(\"Enter a number: \"))\n",
    "while(num>0):\n",
    "    reminder = num%10\n",
    "    num = num//10\n",
    "    if(num==0):\n",
    "        print(reminder, end=\" \")\n",
    "    else:\n",
    "        print(reminder, end=\",\")"
   ]
  },
  {
   "cell_type": "code",
   "execution_count": 5,
   "id": "8704e420",
   "metadata": {},
   "outputs": [
    {
     "name": "stdout",
     "output_type": "stream",
     "text": [
      "Enter a number: 12345678\n",
      "8\n"
     ]
    }
   ],
   "source": [
    "#Task-11\n",
    "count = 0\n",
    "num = int(input(\"Enter a number: \"))\n",
    "while(num>0):\n",
    "    num = num//10\n",
    "    count+=1\n",
    "print(count)"
   ]
  },
  {
   "cell_type": "code",
   "execution_count": 2,
   "id": "7aa9e739",
   "metadata": {},
   "outputs": [
    {
     "name": "stdout",
     "output_type": "stream",
     "text": [
      "Enter a number: 32678\n",
      "3,2,6,7,8 "
     ]
    }
   ],
   "source": [
    "#Task-12\n",
    "count = 0\n",
    "num = int(input(\"Enter a number: \"))\n",
    "temp = num\n",
    "while(num>0):\n",
    "    num = num//10\n",
    "    count+=1\n",
    "divisor = 10**(count-1)\n",
    "while(temp>0):\n",
    "    digit = temp//divisor\n",
    "    temp = temp%divisor\n",
    "    divisor = divisor//10\n",
    "    if(temp==0):\n",
    "        print(digit, end=\" \")\n",
    "    else:\n",
    "        print(digit, end=\",\")"
   ]
  },
  {
   "cell_type": "code",
   "execution_count": 6,
   "id": "e4ed2944",
   "metadata": {},
   "outputs": [
    {
     "name": "stdout",
     "output_type": "stream",
     "text": [
      "Enter a number121\n",
      "1,11,121 \n",
      "Total 3 divisors.\n"
     ]
    }
   ],
   "source": [
    "#Task-13\n",
    "num = int(input(\"Enter a number\"))\n",
    "count = 0\n",
    "for i in range(1,num+1):\n",
    "    if(num%i==0):\n",
    "        count+=1\n",
    "        if(i==num):\n",
    "            print(i, end=\" \")\n",
    "        else:\n",
    "            print(i, end=\",\")\n",
    "print(\"\\nTotal\",count,\"divisors.\")"
   ]
  },
  {
   "cell_type": "code",
   "execution_count": 10,
   "id": "1c690b72",
   "metadata": {},
   "outputs": [
    {
     "name": "stdout",
     "output_type": "stream",
     "text": [
      "Enter a number: 28\n",
      "28 is a perfect number\n"
     ]
    }
   ],
   "source": [
    "#Task-14:\n",
    "num = int(input(\"Enter a number: \"))\n",
    "total = 0\n",
    "for i in range(1,num):\n",
    "    if(num%i==0):\n",
    "        total+=i\n",
    "if(total==num):\n",
    "    print(num,\"is a perfect number\")\n",
    "else:\n",
    "    print(num,\"is not a perfect number\")"
   ]
  },
  {
   "cell_type": "code",
   "execution_count": 10,
   "id": "16da459c",
   "metadata": {},
   "outputs": [
    {
     "name": "stdout",
     "output_type": "stream",
     "text": [
      "9\n",
      "9 is not a prime number\n"
     ]
    }
   ],
   "source": [
    "#Task-15\n",
    "num = int(input())\n",
    "count=0\n",
    "for i in range(1,num+1):\n",
    "    if(num%i==0):\n",
    "        count+=1\n",
    "if(count==2):\n",
    "    print(num,\"is a prime number\")\n",
    "else:\n",
    "    print(num,\"is not a prime number\")"
   ]
  },
  {
   "cell_type": "code",
   "execution_count": 5,
   "id": "ca93632f",
   "metadata": {},
   "outputs": [
    {
     "name": "stdout",
     "output_type": "stream",
     "text": [
      "Enter the quantity5\n",
      "Enter the number10\n",
      "Enter another number4\n",
      "Enter another number-1\n",
      "Enter another number-100\n",
      "Enter another number1\n",
      "Maximum 10\n",
      "Minimum -100\n",
      "Average is -17.2\n"
     ]
    }
   ],
   "source": [
    "#Task-16\n",
    "qnt = int(input(\"Enter the quantity\"))\n",
    "num1 = int(input(\"Enter the number\"))\n",
    "max = num1\n",
    "min = num1\n",
    "sum = num1\n",
    "for i in range(0,4 qnt-1):\n",
    "    num2 = int(input(\"Enter another number\"))\n",
    "    sum = sum+num2\n",
    "    if(num2>max):\n",
    "        max = num2\n",
    "    if(num2<min):\n",
    "        min = num2\n",
    "avg = sum/qnt\n",
    "print(\"Maximum\",max)\n",
    "print(\"Minimum\",min)\n",
    "print(\"Average is\",avg)"
   ]
  },
  {
   "cell_type": "code",
   "execution_count": 8,
   "id": "86e8536f",
   "metadata": {},
   "outputs": [
    {
     "name": "stdout",
     "output_type": "stream",
     "text": [
      "Enter a number6\n",
      "++++++\n",
      "++++++\n",
      "++++++\n",
      "++++++\n",
      "++++++\n",
      "++++++\n"
     ]
    }
   ],
   "source": [
    "#Task-17\n",
    "num = int(input(\"Enter a number\"))\n",
    "for i in range(num):\n",
    "    for i in range(num):\n",
    "        print(\"+\",end=\"\")\n",
    "    print()"
   ]
  },
  {
   "cell_type": "code",
   "execution_count": 11,
   "id": "213f3ae0",
   "metadata": {},
   "outputs": [
    {
     "name": "stdout",
     "output_type": "stream",
     "text": [
      "Enter a number for height4\n",
      "Enter a number for width6\n",
      "123456\n",
      "123456\n",
      "123456\n",
      "123456\n"
     ]
    }
   ],
   "source": [
    "#Task-18\n",
    "m = int(input(\"Enter a number for height\"))\n",
    "n = int(input(\"Enter a number for width\"))\n",
    "for i in range(m):\n",
    "    for j in range(1,n+1):\n",
    "        print(j,end=\"\")\n",
    "    print()"
   ]
  },
  {
   "cell_type": "code",
   "execution_count": 15,
   "id": "97da5623",
   "metadata": {},
   "outputs": [
    {
     "name": "stdout",
     "output_type": "stream",
     "text": [
      "Enter a number4\n",
      "1\n",
      "12\n",
      "123\n",
      "1234\n"
     ]
    }
   ],
   "source": [
    "#Task-19:\n",
    "num = int(input(\"Enter a number\"))\n",
    "for i in range(1,num+1):\n",
    "    for j in range(1,i+1):\n",
    "        print(j,end=\"\")\n",
    "    print()"
   ]
  },
  {
   "cell_type": "code",
   "execution_count": 17,
   "id": "c2d86928",
   "metadata": {},
   "outputs": [
    {
     "name": "stdout",
     "output_type": "stream",
     "text": [
      "4\n",
      "10\n",
      "18\n",
      "28\n",
      "42\n",
      "60\n",
      "82\n",
      "108\n",
      "138\n",
      "151\n"
     ]
    }
   ],
   "source": [
    "x = 0\n",
    "p =0\n",
    "sum = 0\n",
    "p = 1\n",
    "x = 2\n",
    "q = None\n",
    "sum = 0\n",
    "while p < 12:\n",
    "    q = x + p - (sum + 7 / 3) / 3.0 % 2\n",
    "    sum = sum + x + int(q)\n",
    "    x += 1\n",
    "    print(sum)\n",
    "    if x > 5:\n",
    "        p += 4 / 2\n",
    "    else:\n",
    "        p += (3 % 1)\n",
    "sum = int(sum + p)\n",
    "print(sum)"
   ]
  },
  {
   "cell_type": "code",
   "execution_count": 19,
   "id": "0a4485b6",
   "metadata": {},
   "outputs": [
    {
     "name": "stdout",
     "output_type": "stream",
     "text": [
      "4\n",
      "9\n",
      "16\n",
      "25\n",
      "39\n",
      "56\n",
      "78\n",
      "104\n",
      "115\n"
     ]
    }
   ],
   "source": [
    "x = 0\n",
    "p = 0\n",
    "sum = 0\n",
    "p = 1\n",
    "x = 2\n",
    "q = 0.0\n",
    "sum = 0\n",
    "while (p < 10) :\n",
    "    q = x + p - (sum + int(5 / 3)) / 3.0 % 2\n",
    "    sum = sum + x + int(q)\n",
    "    x += 1\n",
    "    print(sum)\n",
    "    if (x > 5) :\n",
    "        p += int(4 / 2)\n",
    "    else :\n",
    "        p += 3 % 1\n",
    "sum = sum + p\n",
    "print(sum)"
   ]
  },
  {
   "cell_type": "code",
   "execution_count": 20,
   "id": "f7417d03",
   "metadata": {},
   "outputs": [
    {
     "name": "stdout",
     "output_type": "stream",
     "text": [
      "6\n",
      "4\n",
      "2\n",
      "0\n",
      "-2\n",
      "-4\n",
      "3\n",
      "1\n",
      "-1\n",
      "-2\n"
     ]
    }
   ],
   "source": [
    "x = y = 0\n",
    "sum = 0\n",
    "while (x < 10):\n",
    "    y = x - 3\n",
    "    while (y < 3):\n",
    "        sum = x - y * 2\n",
    "        print(sum)\n",
    "        y = y + 1\n",
    "    if (x > 7):\n",
    "        x += 1\n",
    "    else:\n",
    "        x += 3\n",
    "sum = x - y * 2\n",
    "print(sum)\n"
   ]
  },
  {
   "cell_type": "code",
   "execution_count": 24,
   "id": "b77b342a",
   "metadata": {},
   "outputs": [
    {
     "name": "stdout",
     "output_type": "stream",
     "text": [
      "6\n",
      "7\n",
      "9\n",
      "5\n",
      "10\n",
      "5\n",
      "10\n",
      "5\n",
      "11\n",
      "7\n",
      "3\n"
     ]
    }
   ],
   "source": [
    "x = 0\n",
    "y = 0\n",
    "sum = 0\n",
    "p = 0.0\n",
    "while (x < 10):\n",
    "    y = x // 2\n",
    "    while (y < x):\n",
    "        p = (x + 10.0) / 2\n",
    "        sum = (sum % 2) + x - y * 2 + int(p)\n",
    "        print(sum)\n",
    "        y = y + 2\n",
    "    if (x > 5):\n",
    "        x += 1\n",
    "    else:\n",
    "        x += 2"
   ]
  },
  {
   "cell_type": "code",
   "execution_count": 26,
   "id": "fa6f309e",
   "metadata": {},
   "outputs": [
    {
     "name": "stdout",
     "output_type": "stream",
     "text": [
      "10\n"
     ]
    }
   ],
   "source": [
    "a = (5%2)+8-4*2+9\n",
    "print(a)"
   ]
  },
  {
   "cell_type": "code",
   "execution_count": 27,
   "id": "6748ff2e",
   "metadata": {},
   "outputs": [
    {
     "name": "stdout",
     "output_type": "stream",
     "text": [
      "40\n",
      "45\n",
      "50\n",
      "55\n",
      "60\n",
      "65\n",
      "70\n",
      "75\n",
      "80\n",
      "85\n"
     ]
    }
   ],
   "source": [
    "test = 1\n",
    "j = 0\n",
    "k = 100\n",
    "while (k > 0):\n",
    "    while ( j < k ):\n",
    "        test = k + j -21\n",
    "        print(str(1 + int (test / 2)))\n",
    "        j += 10\n",
    "    k -= 10\n",
    "test = 1\n",
    "j = 0\n",
    "k = 1"
   ]
  },
  {
   "cell_type": "code",
   "execution_count": null,
   "id": "e6b3d321",
   "metadata": {},
   "outputs": [],
   "source": []
  }
 ],
 "metadata": {
  "kernelspec": {
   "display_name": "Python 3 (ipykernel)",
   "language": "python",
   "name": "python3"
  },
  "language_info": {
   "codemirror_mode": {
    "name": "ipython",
    "version": 3
   },
   "file_extension": ".py",
   "mimetype": "text/x-python",
   "name": "python",
   "nbconvert_exporter": "python",
   "pygments_lexer": "ipython3",
   "version": "3.9.7"
  }
 },
 "nbformat": 4,
 "nbformat_minor": 5
}
